{
 "cells": [
  {
   "cell_type": "markdown",
   "metadata": {},
   "source": [
    "The repository contains the following packages: config, data, models\n",
    "\n",
    "__1-__ The __config__ package contains configs of the models and also settings of the project.\n",
    "\n",
    "\n",
    "__2-__ The __data__ package stores and loads the data needed for the models. It has datasets and data_loaders sub-packages.\n",
    "The datasets sub-package stores raw data samples; one of our used datasets is CAVE which you can find its full data here: https://www1.cs.columbia.edu/CAVE/databases/multispectral/\n",
    "\n",
    "In data_loader sub-package, we prepare data samples needed for the models. In reformat_cave_data.py file, we change the CAVE data format to use them for our models. Also, in simulate_data.py we select some random patches from both RGB and HS images to train our models and then simulate functionality of the spectrophotometer.\n",
    "\n",
    "\n",
    "__3-__ The __models__ package contains our implemented models. At regression.py file, we have implemented a regression model to reconstruct HS images from the corresponding RGB images.\n",
    "\n",
    "\n",
    "We evaluate our models by using RMSE."
   ]
  },
  {
   "cell_type": "markdown",
   "metadata": {},
   "source": [
    "At the first we should load the data and select some random patches to train the model. The number of patches is:"
   ]
  },
  {
   "cell_type": "code",
   "execution_count": 25,
   "metadata": {},
   "outputs": [],
   "source": [
    "import warnings\n",
    "warnings.filterwarnings('ignore')"
   ]
  },
  {
   "cell_type": "code",
   "execution_count": 26,
   "metadata": {},
   "outputs": [
    {
     "name": "stdout",
     "output_type": "stream",
     "text": [
      "200\n"
     ]
    }
   ],
   "source": [
    "from config import PATCHES_NUM\n",
    "\n",
    "patches_num = PATCHES_NUM\n",
    "print(patches_num)"
   ]
  },
  {
   "cell_type": "code",
   "execution_count": 27,
   "metadata": {},
   "outputs": [],
   "source": [
    "import os\n",
    "\n",
    "from config import PATCHES_SIZE, DATASETS_DIR\n",
    "from data.data_loader.simulate_data import load_data, random_patches\n",
    "\n",
    "\n",
    "folder_path = os.path.join(DATASETS_DIR, 'CAVE', 'balloons_ms')\n",
    "\n",
    "rgb_img, hs_img = load_data(folder_path)\n",
    "rgb_patches, hs_patches, patches = random_patches(rgb_img, hs_img, patches_num, PATCHES_SIZE)"
   ]
  },
  {
   "cell_type": "markdown",
   "metadata": {},
   "source": [
    "Now it's time to simulate functionality of the spectrophotometer."
   ]
  },
  {
   "cell_type": "code",
   "execution_count": 28,
   "metadata": {},
   "outputs": [],
   "source": [
    "from data.data_loader.simulate_data import simulate_spectrophotometer\n",
    "\n",
    "avg_rgb_patches = simulate_spectrophotometer(rgb_patches)\n",
    "avg_hs_patches = simulate_spectrophotometer(hs_patches)"
   ]
  },
  {
   "cell_type": "markdown",
   "metadata": {},
   "source": [
    "Then we should split the data to test and train sets with the TRAIN_RATIO of:"
   ]
  },
  {
   "cell_type": "code",
   "execution_count": 29,
   "metadata": {},
   "outputs": [
    {
     "name": "stdout",
     "output_type": "stream",
     "text": [
      "0.8\n"
     ]
    }
   ],
   "source": [
    "from config import TRAIN_RATIO\n",
    "\n",
    "print(TRAIN_RATIO)"
   ]
  },
  {
   "cell_type": "code",
   "execution_count": 30,
   "metadata": {},
   "outputs": [],
   "source": [
    "train_samples = int(TRAIN_RATIO * patches_num)\n",
    "train_rgb, test_rgb = avg_rgb_patches[:train_samples], avg_rgb_patches[train_samples:]\n",
    "train_hs, test_hs = avg_hs_patches[:train_samples], avg_hs_patches[train_samples:]"
   ]
  },
  {
   "cell_type": "markdown",
   "metadata": {},
   "source": [
    "Finally we train the regresson model."
   ]
  },
  {
   "cell_type": "code",
   "execution_count": 31,
   "metadata": {},
   "outputs": [],
   "source": [
    "from models.regression import Regression\n",
    "\n",
    "regresstion = Regression(train_rgb, train_hs)\n",
    "regresstion.train()\n",
    "predictions = regresstion.model.predict(test_rgb)"
   ]
  },
  {
   "cell_type": "markdown",
   "metadata": {},
   "source": [
    "The RMSE score is as follows."
   ]
  },
  {
   "cell_type": "code",
   "execution_count": 32,
   "metadata": {},
   "outputs": [
    {
     "name": "stdout",
     "output_type": "stream",
     "text": [
      "1091.0447679820627\n"
     ]
    }
   ],
   "source": [
    "from main import rmse\n",
    "\n",
    "print(rmse(test_hs, predictions))"
   ]
  },
  {
   "cell_type": "code",
   "execution_count": 33,
   "metadata": {},
   "outputs": [
    {
     "data": {
      "text/plain": [
       "<matplotlib.axes._subplots.AxesSubplot at 0x1a3657ff28>"
      ]
     },
     "execution_count": 33,
     "metadata": {},
     "output_type": "execute_result"
    },
    {
     "data": {
      "image/png": "[encoded data removed]",
      "text/plain": [
       "<Figure size 432x288 with 1 Axes>"
      ]
     },
     "metadata": {},
     "output_type": "display_data"
    }
   ],
   "source": [
    "import seaborn as sns\n",
    "from main import run\n",
    "\n",
    "\n",
    "rmses = []\n",
    "for i in range(100):\n",
    "    rmses.append(run(patches_num))\n",
    "    \n",
    "sns.set(color_codes=True)\n",
    "sns.distplot(rmses)"
   ]
  },
  {
   "cell_type": "code",
   "execution_count": null,
   "metadata": {},
   "outputs": [],
   "source": []
  },
  {
   "cell_type": "code",
   "execution_count": null,
   "metadata": {},
   "outputs": [],
   "source": []
  }
 ],
 "metadata": {
  "kernelspec": {
   "display_name": "Python 3",
   "language": "python",
   "name": "python3"
  },
  "language_info": {
   "codemirror_mode": {
    "name": "ipython",
    "version": 3
   },
   "file_extension": ".py",
   "mimetype": "text/x-python",
   "name": "python",
   "nbconvert_exporter": "python",
   "pygments_lexer": "ipython3",
   "version": "3.6.6"
  }
 },
 "nbformat": 4,
 "nbformat_minor": 2
}
