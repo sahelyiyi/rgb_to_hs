{
 "cells": [
  {
   "cell_type": "markdown",
   "metadata": {},
   "source": [
    "The repository contains the following packages: config, data, models\n",
    "\n",
    "__1-__ The __config__ package contains configs of the models and also settings of the project.\n",
    "\n",
    "\n",
    "__2-__ The __data__ package stores and loads the data needed for the models. It has datasets and data_loaders sub-packages.\n",
    "The datasets sub-package stores raw data samples; one of our used datasets is CAVE which you can find its full data here: https://www1.cs.columbia.edu/CAVE/databases/multispectral/\n",
    "\n",
    "In data_loader sub-package, we prepare data samples needed for the models. In reformat_cave_data.py file, we change the CAVE data format to use them for our models. Also, in simulate_data.py we select some random patches from both RGB and HS images to train our models and then simulate functionality of the spectrophotometer.\n",
    "\n",
    "\n",
    "__3-__ The __models__ package contains our implemented models. At regression.py file, we have implemented a regression model to reconstruct HS images from the corresponding RGB images.\n",
    "\n",
    "\n",
    "We evaluate our models by using RMSE and delta_e 2000."
   ]
  },
  {
   "cell_type": "markdown",
   "metadata": {},
   "source": [
    "At the first we should load the data and select some random patches to train the model. The number of patches and their sizes are:"
   ]
  },
  {
   "cell_type": "code",
   "execution_count": 1,
   "metadata": {},
   "outputs": [],
   "source": [
    "import warnings\n",
    "warnings.filterwarnings('ignore')"
   ]
  },
  {
   "cell_type": "code",
   "execution_count": 2,
   "metadata": {},
   "outputs": [
    {
     "name": "stdout",
     "output_type": "stream",
     "text": [
      "patches_num:  200 , patches_size:  10\n"
     ]
    }
   ],
   "source": [
    "from config import PATCHES_NUM, PATCHES_SIZE\n",
    "\n",
    "patches_num = PATCHES_NUM\n",
    "print('patches_num: ',patches_num, ', patches_size: ', PATCHES_SIZE)"
   ]
  },
  {
   "cell_type": "markdown",
   "metadata": {},
   "source": [
    "At load_data we have normalized the hyperspectrul image."
   ]
  },
  {
   "cell_type": "code",
   "execution_count": 3,
   "metadata": {},
   "outputs": [],
   "source": [
    "import os\n",
    "\n",
    "from config import DATASETS_DIR\n",
    "from data.data_loader.simulate_data import load_data, random_patches\n",
    "\n",
    "\n",
    "folder_path = os.path.join(DATASETS_DIR, 'CAVE', 'balloons_ms')\n",
    "\n",
    "rgb_img, hs_img = load_data(folder_path)\n",
    "rgb_patches, hs_patches, patches = random_patches(rgb_img, hs_img, patches_num, PATCHES_SIZE)"
   ]
  },
  {
   "cell_type": "markdown",
   "metadata": {},
   "source": [
    "Now it's time to simulate functionality of the spectrophotometer."
   ]
  },
  {
   "cell_type": "code",
   "execution_count": 4,
   "metadata": {},
   "outputs": [],
   "source": [
    "from data.data_loader.simulate_data import simulate_spectrophotometer\n",
    "\n",
    "avg_rgb_patches = simulate_spectrophotometer(rgb_patches)\n",
    "avg_hs_patches = simulate_spectrophotometer(hs_patches)"
   ]
  },
  {
   "cell_type": "markdown",
   "metadata": {},
   "source": [
    "Then we should split the data to test and train sets with the TRAIN_RATIO of:"
   ]
  },
  {
   "cell_type": "code",
   "execution_count": 5,
   "metadata": {},
   "outputs": [
    {
     "name": "stdout",
     "output_type": "stream",
     "text": [
      "0.8\n"
     ]
    }
   ],
   "source": [
    "from config import TRAIN_RATIO\n",
    "\n",
    "print(TRAIN_RATIO)"
   ]
  },
  {
   "cell_type": "code",
   "execution_count": 6,
   "metadata": {},
   "outputs": [],
   "source": [
    "train_samples = int(TRAIN_RATIO * patches_num)\n",
    "train_rgb, test_rgb = avg_rgb_patches[:train_samples], avg_rgb_patches[train_samples:]\n",
    "train_hs, test_hs = avg_hs_patches[:train_samples], avg_hs_patches[train_samples:]"
   ]
  },
  {
   "cell_type": "markdown",
   "metadata": {},
   "source": [
    "Finally we train the regresson model."
   ]
  },
  {
   "cell_type": "code",
   "execution_count": 7,
   "metadata": {},
   "outputs": [],
   "source": [
    "from models.regression import Regression\n",
    "\n",
    "regresstion = Regression(train_rgb, train_hs)\n",
    "regresstion.train()\n",
    "predictions = regresstion.model.predict(test_rgb)"
   ]
  },
  {
   "cell_type": "markdown",
   "metadata": {},
   "source": [
    "The RMSE and Delta 2 200 scores are as follow."
   ]
  },
  {
   "cell_type": "code",
   "execution_count": 8,
   "metadata": {},
   "outputs": [
    {
     "name": "stdout",
     "output_type": "stream",
     "text": [
      "For train data, rmse is:  0.048993546661573774 , delta e is:  11.709618901662841\n",
      "For test data, rmse is:  0.05339037708740616 , delta e is:  11.219023364521902\n"
     ]
    }
   ],
   "source": [
    "from main import get_rmse, get_delta_e_2000\n",
    "\n",
    "train_predictions = regresstion.model.predict(train_rgb)\n",
    "print('For train data, rmse is: ', get_rmse(train_hs, train_predictions), ', delta e is: ', get_delta_e_2000(train_hs, train_predictions))\n",
    "\n",
    "print('For test data, rmse is: ', get_rmse(test_hs, predictions), ', delta e is: ', get_delta_e_2000(test_hs, predictions))"
   ]
  },
  {
   "cell_type": "code",
   "execution_count": 9,
   "metadata": {},
   "outputs": [
    {
     "data": {
      "text/plain": [
       "<matplotlib.image.AxesImage at 0x1c3ab2b7b8>"
      ]
     },
     "execution_count": 9,
     "metadata": {},
     "output_type": "execute_result"
    },
    {
     "data": {
      "image/png": "[encoded data removed]",
      "text/plain": [
       "<Figure size 432x288 with 1 Axes>"
      ]
     },
     "metadata": {
      "needs_background": "light"
     },
     "output_type": "display_data"
    }
   ],
   "source": [
    "from main import visualize_results\n",
    "import matplotlib.pyplot as plt\n",
    "\n",
    "result = visualize_results(test_hs, predictions)\n",
    "plt.imshow(result)"
   ]
  },
  {
   "cell_type": "code",
   "execution_count": 10,
   "metadata": {},
   "outputs": [],
   "source": [
    "from main import run\n",
    "import seaborn as sns\n",
    "import numpy as np\n",
    "\n",
    "def multi_run(method='rgb', patches_size=PATCHES_SIZE):\n",
    "    rmses = []\n",
    "    delta_es = []\n",
    "    for i in range(100):\n",
    "        rmse, delta_e = run(method=method, patches_size=patches_size)\n",
    "        rmses.append(rmse)\n",
    "        delta_es.append(delta_e)\n",
    "    return rmses, delta_es\n",
    "        \n",
    "def get_results(patches_size=PATCHES_SIZE):\n",
    "    rgb_rmses, rgb_delta_es = multi_run(method='rgb', patches_size=patches_size)\n",
    "    xyz_rmses, xyz_delta_es = multi_run(method='xyz', patches_size=patches_size)\n",
    "    lab_rmses, lab_delta_es = multi_run(method='lab', patches_size=patches_size)\n",
    "    return rgb_rmses, rgb_delta_es, xyz_rmses, xyz_delta_es, lab_rmses, lab_delta_es\n",
    "    \n",
    "\n",
    "rgb_rmses, rgb_delta_es, xyz_rmses, xyz_delta_es, lab_rmses, lab_delta_es = get_results(patches_size=1)"
   ]
  },
  {
   "cell_type": "code",
   "execution_count": 11,
   "metadata": {},
   "outputs": [
    {
     "name": "stdout",
     "output_type": "stream",
     "text": [
      "rgb rmse mean is:  0.05524347558242448 \n",
      "rgb delta e mean is:  11.097123753823368\n"
     ]
    }
   ],
   "source": [
    "print('rgb rmse mean is: ', np.mean(rgb_rmses), '\\nrgb delta e mean is: ', np.mean(rgb_delta_es))"
   ]
  },
  {
   "cell_type": "code",
   "execution_count": 12,
   "metadata": {},
   "outputs": [
    {
     "data": {
      "text/plain": [
       "<matplotlib.axes._subplots.AxesSubplot at 0x1c3aac4c88>"
      ]
     },
     "execution_count": 12,
     "metadata": {},
     "output_type": "execute_result"
    },
    {
     "data": {
      "image/png": "[encoded data removed]",
      "text/plain": [
       "<Figure size 432x288 with 1 Axes>"
      ]
     },
     "metadata": {
      "needs_background": "light"
     },
     "output_type": "display_data"
    }
   ],
   "source": [
    "sns.distplot(rgb_rmses)"
   ]
  },
  {
   "cell_type": "code",
   "execution_count": 13,
   "metadata": {},
   "outputs": [
    {
     "data": {
      "text/plain": [
       "<matplotlib.axes._subplots.AxesSubplot at 0x1c2fc94668>"
      ]
     },
     "execution_count": 13,
     "metadata": {},
     "output_type": "execute_result"
    },
    {
     "data": {
      "image/png": "[encoded data removed]",
      "text/plain": [
       "<Figure size 432x288 with 1 Axes>"
      ]
     },
     "metadata": {
      "needs_background": "light"
     },
     "output_type": "display_data"
    }
   ],
   "source": [
    "sns.distplot(rgb_delta_es)\n"
   ]
  },
  {
   "cell_type": "markdown",
   "metadata": {},
   "source": [
    "If instead of RGB image we use XYZ image, the result would be as follows: "
   ]
  },
  {
   "cell_type": "code",
   "execution_count": 14,
   "metadata": {},
   "outputs": [
    {
     "name": "stdout",
     "output_type": "stream",
     "text": [
      "xyz rmse mean is:  0.015225145129641961 \n",
      "xyz delta e mean is:  2.944424157375892\n"
     ]
    }
   ],
   "source": [
    "print('xyz rmse mean is: ', np.mean(xyz_rmses), '\\nxyz delta e mean is: ', np.mean(xyz_delta_es))"
   ]
  },
  {
   "cell_type": "code",
   "execution_count": 15,
   "metadata": {},
   "outputs": [
    {
     "data": {
      "text/plain": [
       "<matplotlib.axes._subplots.AxesSubplot at 0x1c30200828>"
      ]
     },
     "execution_count": 15,
     "metadata": {},
     "output_type": "execute_result"
    },
    {
     "data": {
      "image/png": "[encoded data removed]",
      "text/plain": [
       "<Figure size 432x288 with 1 Axes>"
      ]
     },
     "metadata": {
      "needs_background": "light"
     },
     "output_type": "display_data"
    }
   ],
   "source": [
    "sns.distplot(xyz_rmses)"
   ]
  },
  {
   "cell_type": "code",
   "execution_count": 16,
   "metadata": {},
   "outputs": [
    {
     "data": {
      "text/plain": [
       "<matplotlib.axes._subplots.AxesSubplot at 0x1c302db940>"
      ]
     },
     "execution_count": 16,
     "metadata": {},
     "output_type": "execute_result"
    },
    {
     "data": {
      "image/png": "[encoded data removed]",
      "text/plain": [
       "<Figure size 432x288 with 1 Axes>"
      ]
     },
     "metadata": {
      "needs_background": "light"
     },
     "output_type": "display_data"
    }
   ],
   "source": [
    "sns.distplot(xyz_delta_es)"
   ]
  },
  {
   "cell_type": "markdown",
   "metadata": {},
   "source": [
    "Also, if instead of RGB image we use LAB image, the result would be as follows:"
   ]
  },
  {
   "cell_type": "code",
   "execution_count": 17,
   "metadata": {},
   "outputs": [
    {
     "name": "stdout",
     "output_type": "stream",
     "text": [
      "lab rmse mean is:  0.06225843158139514 \n",
      "lab delta e mean is:  12.8820262858544\n"
     ]
    }
   ],
   "source": [
    "print('lab rmse mean is: ', np.mean(lab_rmses), '\\nlab delta e mean is: ', np.mean(lab_delta_es))"
   ]
  },
  {
   "cell_type": "code",
   "execution_count": 18,
   "metadata": {},
   "outputs": [
    {
     "data": {
      "text/plain": [
       "<matplotlib.axes._subplots.AxesSubplot at 0x1c303b68d0>"
      ]
     },
     "execution_count": 18,
     "metadata": {},
     "output_type": "execute_result"
    },
    {
     "data": {
      "image/png": "[encoded data removed]",
      "text/plain": [
       "<Figure size 432x288 with 1 Axes>"
      ]
     },
     "metadata": {
      "needs_background": "light"
     },
     "output_type": "display_data"
    }
   ],
   "source": [
    "sns.distplot(lab_rmses)"
   ]
  },
  {
   "cell_type": "code",
   "execution_count": 19,
   "metadata": {
    "scrolled": true
   },
   "outputs": [
    {
     "data": {
      "text/plain": [
       "<matplotlib.axes._subplots.AxesSubplot at 0x1c2fccb6a0>"
      ]
     },
     "execution_count": 19,
     "metadata": {},
     "output_type": "execute_result"
    },
    {
     "data": {
      "image/png": "[encoded data removed]",
      "text/plain": [
       "<Figure size 432x288 with 1 Axes>"
      ]
     },
     "metadata": {
      "needs_background": "light"
     },
     "output_type": "display_data"
    }
   ],
   "source": [
    "sns.distplot(lab_delta_es)"
   ]
  },
  {
   "cell_type": "code",
   "execution_count": 20,
   "metadata": {},
   "outputs": [
    {
     "name": "stdout",
     "output_type": "stream",
     "text": [
      "rgb mean rmses:  0.05524347558242448 \n",
      "xyz mean rmses:  0.015225145129641961 \n",
      "lab mean rmses:  0.06225843158139514\n"
     ]
    }
   ],
   "source": [
    "print('rgb mean rmses: ', np.mean(rgb_rmses), '\\nxyz mean rmses: ', np.mean(xyz_rmses), \n",
    "      '\\nlab mean rmses: ', np.mean(lab_rmses))"
   ]
  },
  {
   "cell_type": "code",
   "execution_count": 21,
   "metadata": {},
   "outputs": [
    {
     "name": "stdout",
     "output_type": "stream",
     "text": [
      "rgb mean delta e:  11.097123753823368 \n",
      "xyz mean delta e:  2.944424157375892 \n",
      "lab mean delta e:  12.8820262858544\n"
     ]
    }
   ],
   "source": [
    "print('rgb mean delta e: ', np.mean(rgb_delta_es), '\\nxyz mean delta e: ', np.mean(xyz_delta_es), \n",
    "      '\\nlab mean delta e: ', np.mean(lab_delta_es))"
   ]
  },
  {
   "cell_type": "markdown",
   "metadata": {},
   "source": [
    "So using XYZ images for training has the best error."
   ]
  },
  {
   "cell_type": "code",
   "execution_count": 22,
   "metadata": {},
   "outputs": [
    {
     "name": "stdout",
     "output_type": "stream",
     "text": [
      "xyz rmse is:  0.013976581583036224 , delta e is:  2.612143802102394\n"
     ]
    },
    {
     "data": {
      "image/png": "[encoded data removed]",
      "text/plain": [
       "<Figure size 432x288 with 1 Axes>"
      ]
     },
     "metadata": {
      "needs_background": "light"
     },
     "output_type": "display_data"
    }
   ],
   "source": [
    "rmse, delta_e = run(patches_num, method='xyz',  patches_size=PATCHES_SIZE, visualize=True)\n",
    "print('xyz rmse is: ', rmse, ', delta e is: ', delta_e)"
   ]
  },
  {
   "cell_type": "code",
   "execution_count": 23,
   "metadata": {},
   "outputs": [
    {
     "name": "stdout",
     "output_type": "stream",
     "text": [
      "rgb rmse is:  0.03213926952560455 , delta e is:  9.561331933472005\n"
     ]
    },
    {
     "data": {
      "image/png": "[encoded data removed]",
      "text/plain": [
       "<Figure size 432x288 with 1 Axes>"
      ]
     },
     "metadata": {
      "needs_background": "light"
     },
     "output_type": "display_data"
    }
   ],
   "source": [
    "rmse, delta_e = run(patches_num, method='rgb',  patches_size=PATCHES_SIZE, visualize=True)\n",
    "print('rgb rmse is: ', rmse, ', delta e is: ', delta_e)"
   ]
  },
  {
   "cell_type": "code",
   "execution_count": 24,
   "metadata": {},
   "outputs": [
    {
     "name": "stdout",
     "output_type": "stream",
     "text": [
      "lab rmse is:  0.099997309825266 , delta e is:  13.57446689020532\n"
     ]
    },
    {
     "data": {
      "image/png": "[encoded data removed]",
      "text/plain": [
       "<Figure size 432x288 with 1 Axes>"
      ]
     },
     "metadata": {
      "needs_background": "light"
     },
     "output_type": "display_data"
    }
   ],
   "source": [
    "rmse, delta_e = run(patches_num, method='lab',  patches_size=PATCHES_SIZE, visualize=True)\n",
    "print('lab rmse is: ', rmse, ', delta e is: ', delta_e)"
   ]
  },
  {
   "cell_type": "markdown",
   "metadata": {},
   "source": [
    "Now let's try the model for patches_size=1."
   ]
  },
  {
   "cell_type": "code",
   "execution_count": 25,
   "metadata": {},
   "outputs": [],
   "source": [
    "rgb_rmses_1, rgb_delta_es_1, xyz_rmses_1, xyz_delta_es_1, lab_rmses_1, lab_delta_es_1 = get_results(patches_size=1)"
   ]
  },
  {
   "cell_type": "code",
   "execution_count": 26,
   "metadata": {},
   "outputs": [
    {
     "name": "stdout",
     "output_type": "stream",
     "text": [
      "results for patch_size = 1 \n",
      "\n",
      "rgb mean rmses:  0.05455186864579404 \n",
      "xyz mean rmses:  0.015459581381401088 \n",
      "lab mean rmses:  0.06041967213966897\n",
      "\n",
      "rgb mean delta e:  11.121445231181559 \n",
      "xyz mean delta e:  2.9866789856781106 \n",
      "lab mean delta e:  13.117363485965722\n"
     ]
    }
   ],
   "source": [
    "print('results for patch_size = 1 \\n')\n",
    "\n",
    "print('rgb mean rmses: ', np.mean(rgb_rmses_1),\n",
    "      '\\nxyz mean rmses: ', np.mean(xyz_rmses_1),\n",
    "      '\\nlab mean rmses: ', np.mean(lab_rmses_1),\n",
    "     )\n",
    "\n",
    "print()\n",
    "print('rgb mean delta e: ', np.mean(rgb_delta_es_1), \n",
    "      '\\nxyz mean delta e: ', np.mean(xyz_delta_es_1),\n",
    "      '\\nlab mean delta e: ', np.mean(lab_delta_es_1), \n",
    "     )\n",
    "\n"
   ]
  },
  {
   "cell_type": "code",
   "execution_count": 27,
   "metadata": {},
   "outputs": [
    {
     "name": "stdout",
     "output_type": "stream",
     "text": [
      "compare effect of patche size\n",
      "\n",
      "rgb mean rmses:  0.05524347558242448 , 0.05455186864579404 : rgb mean rmses patch size 1 \n",
      "xyz mean rmses:  0.015225145129641961 , 0.015459581381401088 : xyz mean rmses patch size 1 \n",
      "lab mean rmses:  0.06225843158139514 , 0.06041967213966897 : lab mean rmses patch size 1\n",
      "\n",
      "rgb mean delta_e:  11.097123753823368 , 11.121445231181559 : rgb mean delta_e patch size 1 \n",
      "xyz mean delta_e:  2.944424157375892 , 2.9866789856781106 : xyz mean delta_e patch size 1 \n",
      "lab mean delta_e:  12.8820262858544 , 13.117363485965722 : lab mean delta_e patch size 1\n"
     ]
    }
   ],
   "source": [
    "print('compare effect of patche size\\n')\n",
    "\n",
    "print('rgb mean rmses: ', np.mean(rgb_rmses), ',', np.mean(rgb_rmses_1), ': rgb mean rmses patch size 1', \n",
    "      '\\nxyz mean rmses: ', np.mean(xyz_rmses), ',', np.mean(xyz_rmses_1), ': xyz mean rmses patch size 1', \n",
    "      '\\nlab mean rmses: ', np.mean(lab_rmses), ',', np.mean(lab_rmses_1), ': lab mean rmses patch size 1'\n",
    "     )\n",
    "\n",
    "print()\n",
    "print('rgb mean delta_e: ', np.mean(rgb_delta_es), ',', np.mean(rgb_delta_es_1), ': rgb mean delta_e patch size 1',  \n",
    "      '\\nxyz mean delta_e: ', np.mean(xyz_delta_es), ',', np.mean(xyz_delta_es_1), ': xyz mean delta_e patch size 1',\n",
    "      '\\nlab mean delta_e: ', np.mean(lab_delta_es), ',', np.mean(lab_delta_es_1), ': lab mean delta_e patch size 1'\n",
    "     )"
   ]
  },
  {
   "cell_type": "markdown",
   "metadata": {},
   "source": [
    "As you see the results of patch size = 1 isn't much different from patch size = PATCH_SIZE."
   ]
  },
  {
   "cell_type": "code",
   "execution_count": null,
   "metadata": {},
   "outputs": [],
   "source": []
  }
 ],
 "metadata": {
  "kernelspec": {
   "display_name": "Python 3",
   "language": "python",
   "name": "python3"
  },
  "language_info": {
   "codemirror_mode": {
    "name": "ipython",
    "version": 3
   },
   "file_extension": ".py",
   "mimetype": "text/x-python",
   "name": "python",
   "nbconvert_exporter": "python",
   "pygments_lexer": "ipython3",
   "version": "3.6.6"
  }
 },
 "nbformat": 4,
 "nbformat_minor": 2
}
