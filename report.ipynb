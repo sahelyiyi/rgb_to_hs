{
 "cells": [
  {
   "cell_type": "markdown",
   "metadata": {},
   "source": [
    "The repository contains the following packages: config, data, models\n",
    "\n",
    "__1-__ The __config__ package contains configs of the models and also settings of the project.\n",
    "\n",
    "\n",
    "__2-__ The __data__ package stores and loads the data needed for the models. It has datasets and data_loaders sub-packages.\n",
    "The datasets sub-package stores raw data samples; one of our used datasets is CAVE which you can find its full data here: https://www1.cs.columbia.edu/CAVE/databases/multispectral/\n",
    "\n",
    "In data_loader sub-package, we prepare data samples needed for the models. In reformat_cave_data.py file, we change the CAVE data format to use them for our models. Also, in simulate_data.py we select some random patches from both RGB and HS images to train our models and then simulate functionality of the spectrophotometer.\n",
    "\n",
    "\n",
    "__3-__ The __models__ package contains our implemented models. At regression.py file, we have implemented a regression model to reconstruct HS images from the corresponding RGB images.\n",
    "\n",
    "\n",
    "We evaluate our models by using RMSE and delta_e 2000."
   ]
  },
  {
   "cell_type": "markdown",
   "metadata": {},
   "source": [
    "At the first we should load the data and select some random patches to train the model. The number of patches and their sizes are:"
   ]
  },
  {
   "cell_type": "code",
   "execution_count": 1,
   "metadata": {},
   "outputs": [],
   "source": [
    "import warnings\n",
    "warnings.filterwarnings('ignore')"
   ]
  },
  {
   "cell_type": "code",
   "execution_count": 2,
   "metadata": {},
   "outputs": [
    {
     "name": "stdout",
     "output_type": "stream",
     "text": [
      "patches_num:  200 , patches_size:  10\n"
     ]
    }
   ],
   "source": [
    "from config import PATCHES_NUM, PATCHES_SIZE\n",
    "\n",
    "patches_num = PATCHES_NUM\n",
    "print('patches_num: ',patches_num, ', patches_size: ', PATCHES_SIZE)"
   ]
  },
  {
   "cell_type": "markdown",
   "metadata": {},
   "source": [
    "At load_data we have normalized the hyperspectrul image."
   ]
  },
  {
   "cell_type": "code",
   "execution_count": 3,
   "metadata": {},
   "outputs": [],
   "source": [
    "import os\n",
    "\n",
    "from config import DATASETS_DIR\n",
    "from data.data_loader.simulate_data import load_data, random_patches\n",
    "\n",
    "\n",
    "folder_path = os.path.join(DATASETS_DIR, 'CAVE', 'balloons_ms')\n",
    "\n",
    "rgb_img, hs_img = load_data(folder_path)\n",
    "rgb_patches, hs_patches, patches = random_patches(rgb_img, hs_img, patches_num, PATCHES_SIZE)"
   ]
  },
  {
   "cell_type": "markdown",
   "metadata": {},
   "source": [
    "Now it's time to simulate functionality of the spectrophotometer."
   ]
  },
  {
   "cell_type": "code",
   "execution_count": 4,
   "metadata": {},
   "outputs": [],
   "source": [
    "from data.data_loader.simulate_data import simulate_spectrophotometer\n",
    "\n",
    "avg_rgb_patches = simulate_spectrophotometer(rgb_patches)\n",
    "avg_hs_patches = simulate_spectrophotometer(hs_patches)"
   ]
  },
  {
   "cell_type": "markdown",
   "metadata": {},
   "source": [
    "Then we should split the data to test and train sets with the TRAIN_RATIO of:"
   ]
  },
  {
   "cell_type": "code",
   "execution_count": 5,
   "metadata": {},
   "outputs": [
    {
     "name": "stdout",
     "output_type": "stream",
     "text": [
      "0.8\n"
     ]
    }
   ],
   "source": [
    "from config import TRAIN_RATIO\n",
    "\n",
    "print(TRAIN_RATIO)"
   ]
  },
  {
   "cell_type": "code",
   "execution_count": 6,
   "metadata": {},
   "outputs": [],
   "source": [
    "train_samples = int(TRAIN_RATIO * patches_num)\n",
    "train_rgb, test_rgb = avg_rgb_patches[:train_samples], avg_rgb_patches[train_samples:]\n",
    "train_hs, test_hs = avg_hs_patches[:train_samples], avg_hs_patches[train_samples:]"
   ]
  },
  {
   "cell_type": "markdown",
   "metadata": {},
   "source": [
    "Finally we train the regresson model."
   ]
  },
  {
   "cell_type": "code",
   "execution_count": 7,
   "metadata": {},
   "outputs": [],
   "source": [
    "from models.regression import Regression\n",
    "\n",
    "regresstion = Regression(train_rgb, train_hs)\n",
    "regresstion.train()\n",
    "predictions = regresstion.model.predict(test_rgb)"
   ]
  },
  {
   "cell_type": "markdown",
   "metadata": {},
   "source": [
    "The RMSE score is as follows."
   ]
  },
  {
   "cell_type": "code",
   "execution_count": 8,
   "metadata": {},
   "outputs": [
    {
     "name": "stdout",
     "output_type": "stream",
     "text": [
      "rmse is:  4.284021520397678 \n",
      "delta e is:  32.37193461945616\n"
     ]
    }
   ],
   "source": [
    "from main import get_rmse, get_delta_e_2000\n",
    "\n",
    "print('rmse is: ', get_rmse(test_hs, predictions), '\\ndelta e is: ', get_delta_e_2000(test_hs, predictions))"
   ]
  },
  {
   "cell_type": "code",
   "execution_count": 9,
   "metadata": {},
   "outputs": [
    {
     "name": "stdout",
     "output_type": "stream",
     "text": [
      "rgb rmse mean is:  4.620166645038153 \n",
      "rgb delta e mean is:  25.794155759981923\n"
     ]
    }
   ],
   "source": [
    "import seaborn as sns\n",
    "from main import run\n",
    "import numpy as np\n",
    "\n",
    "sns.set(color_codes=True)\n",
    "\n",
    "\n",
    "def multi_run(method='rgb', normalize=False, patches_size=PATCHES_SIZE):\n",
    "    rmses = []\n",
    "    delta_es = []\n",
    "    for i in range(100):\n",
    "        rmse, delta_e = run(patches_num, method=method, normalize=normalize,  patches_size=patches_size)\n",
    "        rmses.append(rmse)\n",
    "        delta_es.append(delta_e)\n",
    "    return rmses, delta_es\n",
    "\n",
    "def get_results(normalize=False, patches_size=PATCHES_SIZE):\n",
    "    rgb_rmses, rgb_delta_es = multi_run(method='rgb', normalize=normalize, patches_size=patches_size)\n",
    "    xyz_rmses, xyz_delta_es = multi_run(method='xyz', normalize=normalize, patches_size=patches_size)\n",
    "    lab_rmses, lab_delta_es = multi_run(method='lab', normalize=normalize, patches_size=patches_size)\n",
    "    return rgb_rmses, rgb_delta_es, xyz_rmses, xyz_delta_es, lab_rmses, lab_delta_es\n",
    "\n",
    "rgb_rmses, rgb_delta_es, xyz_rmses, xyz_delta_es, lab_rmses, lab_delta_es = get_results()\n",
    "print('rgb rmse mean is: ', np.mean(rgb_rmses), '\\nrgb delta e mean is: ', np.mean(rgb_delta_es))"
   ]
  },
  {
   "cell_type": "code",
   "execution_count": 10,
   "metadata": {},
   "outputs": [
    {
     "data": {
      "text/plain": [
       "<matplotlib.axes._subplots.AxesSubplot at 0x1c3044b1d0>"
      ]
     },
     "execution_count": 10,
     "metadata": {},
     "output_type": "execute_result"
    },
    {
     "data": {
      "image/png": "[encoded data removed]",
      "text/plain": [
       "<Figure size 432x288 with 1 Axes>"
      ]
     },
     "metadata": {
      "needs_background": "light"
     },
     "output_type": "display_data"
    }
   ],
   "source": [
    "sns.distplot(rgb_rmses)"
   ]
  },
  {
   "cell_type": "code",
   "execution_count": 11,
   "metadata": {},
   "outputs": [
    {
     "data": {
      "text/plain": [
       "<matplotlib.axes._subplots.AxesSubplot at 0x10bfc8ac8>"
      ]
     },
     "execution_count": 11,
     "metadata": {},
     "output_type": "execute_result"
    },
    {
     "data": {
      "image/png": "[encoded data removed]",
      "text/plain": [
       "<Figure size 432x288 with 1 Axes>"
      ]
     },
     "metadata": {
      "needs_background": "light"
     },
     "output_type": "display_data"
    }
   ],
   "source": [
    "sns.distplot(rgb_delta_es)\n"
   ]
  },
  {
   "cell_type": "markdown",
   "metadata": {},
   "source": [
    "If instead of RGB image we use XYZ image, the result would be as follows: "
   ]
  },
  {
   "cell_type": "code",
   "execution_count": 12,
   "metadata": {},
   "outputs": [
    {
     "name": "stdout",
     "output_type": "stream",
     "text": [
      "xyz rmse mean is:  1.2460264306489846 \n",
      "xyz delta e mean is:  4.176421654198268\n"
     ]
    }
   ],
   "source": [
    "print('xyz rmse mean is: ', np.mean(xyz_rmses), '\\nxyz delta e mean is: ', np.mean(xyz_delta_es))"
   ]
  },
  {
   "cell_type": "code",
   "execution_count": 13,
   "metadata": {},
   "outputs": [
    {
     "data": {
      "text/plain": [
       "<matplotlib.axes._subplots.AxesSubplot at 0x1c2d423278>"
      ]
     },
     "execution_count": 13,
     "metadata": {},
     "output_type": "execute_result"
    },
    {
     "data": {
      "image/png": "[encoded data removed]",
      "text/plain": [
       "<Figure size 432x288 with 1 Axes>"
      ]
     },
     "metadata": {
      "needs_background": "light"
     },
     "output_type": "display_data"
    }
   ],
   "source": [
    "sns.distplot(xyz_rmses)"
   ]
  },
  {
   "cell_type": "code",
   "execution_count": 14,
   "metadata": {},
   "outputs": [
    {
     "data": {
      "text/plain": [
       "<matplotlib.axes._subplots.AxesSubplot at 0x1c2d408550>"
      ]
     },
     "execution_count": 14,
     "metadata": {},
     "output_type": "execute_result"
    },
    {
     "data": {
      "image/png": "[encoded data removed]",
      "text/plain": [
       "<Figure size 432x288 with 1 Axes>"
      ]
     },
     "metadata": {
      "needs_background": "light"
     },
     "output_type": "display_data"
    }
   ],
   "source": [
    "sns.distplot(xyz_delta_es)"
   ]
  },
  {
   "cell_type": "markdown",
   "metadata": {},
   "source": [
    "Also, if instead of RGB image we use LAB image, the result would be as follows:"
   ]
  },
  {
   "cell_type": "code",
   "execution_count": 15,
   "metadata": {},
   "outputs": [
    {
     "name": "stdout",
     "output_type": "stream",
     "text": [
      "lab rmse mean is:  5.9252079161534 \n",
      "lab delta e mean is:  27.12708829135823\n"
     ]
    }
   ],
   "source": [
    "print('lab rmse mean is: ', np.mean(lab_rmses), '\\nlab delta e mean is: ', np.mean(lab_delta_es))"
   ]
  },
  {
   "cell_type": "code",
   "execution_count": 16,
   "metadata": {},
   "outputs": [
    {
     "data": {
      "text/plain": [
       "<matplotlib.axes._subplots.AxesSubplot at 0x1c370cbf98>"
      ]
     },
     "execution_count": 16,
     "metadata": {},
     "output_type": "execute_result"
    },
    {
     "data": {
      "image/png": "[encoded data removed]",
      "text/plain": [
       "<Figure size 432x288 with 1 Axes>"
      ]
     },
     "metadata": {
      "needs_background": "light"
     },
     "output_type": "display_data"
    }
   ],
   "source": [
    "sns.distplot(lab_rmses)"
   ]
  },
  {
   "cell_type": "code",
   "execution_count": 17,
   "metadata": {
    "scrolled": true
   },
   "outputs": [
    {
     "data": {
      "text/plain": [
       "<matplotlib.axes._subplots.AxesSubplot at 0x1c3719a4e0>"
      ]
     },
     "execution_count": 17,
     "metadata": {},
     "output_type": "execute_result"
    },
    {
     "data": {
      "image/png": "[encoded data removed]",
      "text/plain": [
       "<Figure size 432x288 with 1 Axes>"
      ]
     },
     "metadata": {
      "needs_background": "light"
     },
     "output_type": "display_data"
    }
   ],
   "source": [
    "sns.distplot(lab_delta_es)"
   ]
  },
  {
   "cell_type": "code",
   "execution_count": 18,
   "metadata": {},
   "outputs": [
    {
     "name": "stdout",
     "output_type": "stream",
     "text": [
      "rgb mean rmses:  4.620166645038153 \n",
      "xyz mean rmses:  1.2460264306489846 \n",
      "lab mean rmses:  5.9252079161534\n"
     ]
    }
   ],
   "source": [
    "print('rgb mean rmses: ', np.mean(rgb_rmses), '\\nxyz mean rmses: ', np.mean(xyz_rmses), \n",
    "      '\\nlab mean rmses: ', np.mean(lab_rmses))"
   ]
  },
  {
   "cell_type": "code",
   "execution_count": 19,
   "metadata": {},
   "outputs": [
    {
     "name": "stdout",
     "output_type": "stream",
     "text": [
      "rgb mean delta e:  25.794155759981923 \n",
      "xyz mean delta e:  4.176421654198268 \n",
      "lab mean delta e:  27.12708829135823\n"
     ]
    }
   ],
   "source": [
    "print('rgb mean delta e: ', np.mean(rgb_delta_es), '\\nxyz mean delta e: ', np.mean(xyz_delta_es), \n",
    "      '\\nlab mean delta e: ', np.mean(lab_delta_es))"
   ]
  },
  {
   "cell_type": "markdown",
   "metadata": {},
   "source": [
    "So using XYZ images for training has the best error."
   ]
  },
  {
   "cell_type": "markdown",
   "metadata": {},
   "source": [
    "Now let's try sp2xyz method with normalization and compare the results."
   ]
  },
  {
   "cell_type": "code",
   "execution_count": 20,
   "metadata": {},
   "outputs": [],
   "source": [
    "normalaized_rgb_rmses, normalaized_rgb_delta_es, normalaized_xyz_rmses, normalaized_xyz_delta_es, normalaized_lab_rmses, normalaized_lab_delta_es = get_results(normalize=True)\n",
    "\n",
    "# print('normalize rgb rmse mean is: ', np.mean(normalaized_rgb_rmses),\n",
    "#       ',normalize rgb delta e mean is: ', np.mean(normalaized_rgb_delta_es))\n",
    "\n",
    "# print('normalize xyz rmse mean is: ', np.mean(normalaized_xyz_rmses), \n",
    "#       ',normalize xyz delta e mean is: ', np.mean(normalaized_xyz_delta_es))\n",
    "\n",
    "# print('lab rmse mean is: ', np.mean(normalaized_lab_rmses), \n",
    "#       ',normalize lab delta e mean is: ', np.mean(normalaized_lab_delta_es))\n"
   ]
  },
  {
   "cell_type": "code",
   "execution_count": 21,
   "metadata": {},
   "outputs": [
    {
     "name": "stdout",
     "output_type": "stream",
     "text": [
      "rgb mean rmses:  4.620166645038153 , 4.6561022363377935 : normalize rgb mean rmses \n",
      "xyz mean rmses:  1.2460264306489846 , 1.1809523065174001 : normalize xyz mean rmses \n",
      "lab mean rmses:  5.9252079161534 , 5.507191206525671 : normalize lab mean rmses\n",
      "\n",
      "rgb mean delta e:  25.794155759981923 , 0.0022978849008701923 : normalize rgb mean delta e \n",
      "xyz mean delta e:  4.176421654198268 , 0.0008247337507643332 : normalize xyz mean delta e \n",
      "lab mean delta e:  27.12708829135823 , 0.002536848225194685 : normalize lab mean delta e\n"
     ]
    }
   ],
   "source": [
    "print('rgb mean rmses: ', np.mean(rgb_rmses), ',', np.mean(normalaized_rgb_rmses), ': normalize rgb mean rmses', \n",
    "      '\\nxyz mean rmses: ', np.mean(xyz_rmses), ',', np.mean(normalaized_xyz_rmses), ': normalize xyz mean rmses', \n",
    "      '\\nlab mean rmses: ', np.mean(lab_rmses), ',', np.mean(normalaized_lab_rmses), ': normalize lab mean rmses'\n",
    "     )\n",
    "\n",
    "print()\n",
    "print('rgb mean delta e: ', np.mean(rgb_delta_es), ',', np.mean(normalaized_rgb_delta_es), ': normalize rgb mean delta e',  \n",
    "      '\\nxyz mean delta e: ', np.mean(xyz_delta_es), ',', np.mean(normalaized_xyz_delta_es), ': normalize xyz mean delta e',\n",
    "      '\\nlab mean delta e: ', np.mean(lab_delta_es), ',', np.mean(normalaized_lab_delta_es), ': normalize lab mean delta e'\n",
    "     )"
   ]
  },
  {
   "cell_type": "markdown",
   "metadata": {},
   "source": [
    "As you see doing sp2xyz with normalization has better delta e error."
   ]
  },
  {
   "cell_type": "markdown",
   "metadata": {},
   "source": [
    "Now let's try the model for patches_size=1."
   ]
  },
  {
   "cell_type": "code",
   "execution_count": 22,
   "metadata": {},
   "outputs": [],
   "source": [
    "rgb_rmses_1, rgb_delta_es_1, xyz_rmses_1, xyz_delta_es_1, lab_rmses_1, lab_delta_es_1 = get_results(patches_size=1)\n",
    "normalaized_rgb_rmses_1, normalaized_rgb_delta_es_1, normalaized_xyz_rmses_1, normalaized_xyz_delta_es_1, normalaized_lab_rmses_1, normalaized_lab_delta_es_1 = get_results(normalize=True, patches_size=1)\n"
   ]
  },
  {
   "cell_type": "code",
   "execution_count": 23,
   "metadata": {},
   "outputs": [
    {
     "name": "stdout",
     "output_type": "stream",
     "text": [
      "results for patch_size = 1 \n",
      "\n",
      "rgb mean rmses:  0.05292729766564034 , 0.05158530707699261 : normalize rgb mean rmses \n",
      "xyz mean rmses:  0.013455648098081627 , 0.013624248110201137 : normalize xyz mean rmses \n",
      "lab mean rmses:  0.05628642911250407 , 0.057983612132392406 : normalize lab mean rmses\n",
      "\n",
      "rgb mean delta e:  6.984102356239228 , 0.002415822636066857 : normalize rgb mean delta e \n",
      "xyz mean delta e:  2.6971225340788205 , 0.000832844846317169 : normalize xyz mean delta e \n",
      "lab mean delta e:  7.062112321888417 , 0.0026731261924575083 : normalize lab mean delta e\n"
     ]
    }
   ],
   "source": [
    "print('results for patch_size = 1 \\n')\n",
    "\n",
    "print('rgb mean rmses: ', np.mean(rgb_rmses_1), ',', np.mean(normalaized_rgb_rmses_1), ': normalize rgb mean rmses', \n",
    "      '\\nxyz mean rmses: ', np.mean(xyz_rmses_1), ',', np.mean(normalaized_xyz_rmses_1), ': normalize xyz mean rmses', \n",
    "      '\\nlab mean rmses: ', np.mean(lab_rmses_1), ',', np.mean(normalaized_lab_rmses_1), ': normalize lab mean rmses'\n",
    "     )\n",
    "\n",
    "print()\n",
    "print('rgb mean delta e: ', np.mean(rgb_delta_es_1), ',', np.mean(normalaized_rgb_delta_es_1), ': normalize rgb mean delta e',  \n",
    "      '\\nxyz mean delta e: ', np.mean(xyz_delta_es_1), ',', np.mean(normalaized_xyz_delta_es_1), ': normalize xyz mean delta e',\n",
    "      '\\nlab mean delta e: ', np.mean(lab_delta_es_1), ',', np.mean(normalaized_lab_delta_es_1), ': normalize lab mean delta e'\n",
    "     )\n",
    "\n"
   ]
  },
  {
   "cell_type": "code",
   "execution_count": 24,
   "metadata": {},
   "outputs": [
    {
     "name": "stdout",
     "output_type": "stream",
     "text": [
      "compare effect of patche size\n",
      "\n",
      "rgb mean rmses:  4.620166645038153 , 0.05292729766564034 : rgb mean rmses patch size 1 \n",
      "xyz mean rmses:  1.2460264306489846 , 0.013455648098081627 : xyz mean rmses patch size 1 \n",
      "lab mean rmses:  5.9252079161534 , 0.05628642911250407 : lab mean rmses patch size 1\n",
      "\n",
      "rgb mean delta_e:  25.794155759981923 , 6.984102356239228 : rgb mean delta_e patch size 1 \n",
      "xyz mean delta_e:  4.176421654198268 , 2.6971225340788205 : xyz mean delta_e patch size 1 \n",
      "lab mean delta_e:  27.12708829135823 , 7.062112321888417 : lab mean delta_e patch size 1\n",
      "\n",
      "normalize rgb mean delta_e:  0.0022978849008701923 , 0.002415822636066857 : normalize rgb mean delta_e patch size 1 \n",
      "normalize xyz mean delta_e:  0.0008247337507643332 , 0.000832844846317169 : normalize xyz mean delta_e patch size 1 \n",
      "normalize lab mean delta_e:  0.002536848225194685 , 0.0026731261924575083 : normalize lab mean delta_e patch size 1\n"
     ]
    }
   ],
   "source": [
    "print('compare effect of patche size\\n')\n",
    "\n",
    "print('rgb mean rmses: ', np.mean(rgb_rmses), ',', np.mean(rgb_rmses_1), ': rgb mean rmses patch size 1', \n",
    "      '\\nxyz mean rmses: ', np.mean(xyz_rmses), ',', np.mean(xyz_rmses_1), ': xyz mean rmses patch size 1', \n",
    "      '\\nlab mean rmses: ', np.mean(lab_rmses), ',', np.mean(lab_rmses_1), ': lab mean rmses patch size 1'\n",
    "     )\n",
    "\n",
    "print()\n",
    "print('rgb mean delta_e: ', np.mean(rgb_delta_es), ',', np.mean(rgb_delta_es_1), ': rgb mean delta_e patch size 1',  \n",
    "      '\\nxyz mean delta_e: ', np.mean(xyz_delta_es), ',', np.mean(xyz_delta_es_1), ': xyz mean delta_e patch size 1',\n",
    "      '\\nlab mean delta_e: ', np.mean(lab_delta_es), ',', np.mean(lab_delta_es_1), ': lab mean delta_e patch size 1'\n",
    "     )\n",
    "print()\n",
    "print('normalize rgb mean delta_e: ', np.mean(normalaized_rgb_delta_es), ',', np.mean(normalaized_rgb_delta_es_1), ': normalize rgb mean delta_e patch size 1',  \n",
    "      '\\nnormalize xyz mean delta_e: ', np.mean(normalaized_xyz_delta_es), ',', np.mean(normalaized_xyz_delta_es_1), ': normalize xyz mean delta_e patch size 1',\n",
    "      '\\nnormalize lab mean delta_e: ', np.mean(normalaized_lab_delta_es), ',', np.mean(normalaized_lab_delta_es_1), ': normalize lab mean delta_e patch size 1'\n",
    "     )"
   ]
  },
  {
   "cell_type": "markdown",
   "metadata": {},
   "source": [
    "As you see patch size = 1 is much more better than patch size = PATCH_SIZE."
   ]
  },
  {
   "cell_type": "code",
   "execution_count": null,
   "metadata": {},
   "outputs": [],
   "source": []
  }
 ],
 "metadata": {
  "kernelspec": {
   "display_name": "Python 3",
   "language": "python",
   "name": "python3"
  },
  "language_info": {
   "codemirror_mode": {
    "name": "ipython",
    "version": 3
   },
   "file_extension": ".py",
   "mimetype": "text/x-python",
   "name": "python",
   "nbconvert_exporter": "python",
   "pygments_lexer": "ipython3",
   "version": "3.6.6"
  }
 },
 "nbformat": 4,
 "nbformat_minor": 2
}
